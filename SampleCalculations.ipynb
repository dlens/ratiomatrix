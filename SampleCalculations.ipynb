{
 "cells": [
  {
   "cell_type": "markdown",
   "metadata": {},
   "source": [
    "# Python code to calculate ratio matrices and largest eigenvectors\n",
    "The following code is here to demonstrate two things:\n",
    "\n",
    "1. Calculating the priority vector from the pairwise comparison matrix\n",
    "2. Calcualting the ratio matrix from a priority vector.  That ratio matrix's priority vector will be the one we started with."
   ]
  },
  {
   "cell_type": "code",
   "execution_count": 21,
   "metadata": {
    "collapsed": true
   },
   "outputs": [],
   "source": [
    "import numpy as np\n",
    "from IPython.core.display import display, HTML"
   ]
  },
  {
   "cell_type": "markdown",
   "metadata": {},
   "source": [
    "# Define the largest eigenvector and ratio matrix functions"
   ]
  },
  {
   "cell_type": "code",
   "execution_count": 18,
   "metadata": {
    "collapsed": true
   },
   "outputs": [],
   "source": [
    "def largesteigen(mat, ret_eigenval = False, max_err = 1e-10, max_count=1000):\n",
    "    #Turn a list of lists into a numpy array if necessary\n",
    "    if isinstance(mat, (list, tuple)):\n",
    "        mat = np.array(mat)\n",
    "    n = mat.shape[0]\n",
    "    last_step = np.array([1.0/n]*n)\n",
    "    next_step = np.zeros([n])\n",
    "    np.matmul(mat, last_step, next_step)\n",
    "    last_sum = sum(next_step)\n",
    "    np.multiply(1.0/last_sum, next_step, next_step)\n",
    "    diff = sum(abs(next_step - last_step))\n",
    "    step = 0\n",
    "    while (diff > max_err) and (step < max_count):\n",
    "        np.matmul(mat, last_step, next_step)\n",
    "        last_sum = sum(next_step)\n",
    "        np.multiply(1.0/last_sum, next_step, next_step)\n",
    "        tmp = last_step\n",
    "        last_step=next_step\n",
    "        next_step=tmp\n",
    "        diff = sum(abs(next_step - last_step))\n",
    "    if ret_eigenval:\n",
    "        return (val, vec)\n",
    "    else:\n",
    "        return next_step\n",
    "\n",
    "def ratiomatrix(pvec):\n",
    "    if isinstance(pvec, (list, tuple)):\n",
    "        n = len(pvec)\n",
    "    else:\n",
    "        n = pvec.shape[0]\n",
    "    rval = np.identity(n=n, dtype=float)\n",
    "    for row in range(n):\n",
    "        for col in range(row+1, n):\n",
    "            rval[row][col]=pvec[row]/pvec[col]\n",
    "            rval[col][row]=pvec[col]/pvec[row]\n",
    "    return rval"
   ]
  },
  {
   "cell_type": "markdown",
   "metadata": {},
   "source": [
    "# A function to use for examples\n",
    "This function does the following\n",
    "\n",
    "1. Starts with priority vector\n",
    "2. Normalizes it, and prints the result\n",
    "3. Calcualtes the ratio matrix and prints the result\n",
    "4. Calculates the priority vector of the matrix and prints the result\n",
    "\n",
    "Note that steps 2 and 4 should have the same values"
   ]
  },
  {
   "cell_type": "code",
   "execution_count": 28,
   "metadata": {},
   "outputs": [],
   "source": [
    "def example_show(p):\n",
    "    ap = np.array(p)\n",
    "    mat = ratiomatrix(p)\n",
    "    display(HTML(\"<h3>Original Vector Normalized</h3>\"))\n",
    "    display(ap/sum(ap))    \n",
    "    display(HTML(\"<h3>Ratio Matrix</h3>\"))\n",
    "    display(mat)\n",
    "    newp = largesteigen(mat)\n",
    "    display(HTML(\"<h3>New Priority Vector</h3>\"))\n",
    "    display(newp)"
   ]
  },
  {
   "cell_type": "markdown",
   "metadata": {},
   "source": [
    "# Examples"
   ]
  },
  {
   "cell_type": "code",
   "execution_count": 30,
   "metadata": {},
   "outputs": [
    {
     "data": {
      "text/html": [
       "<h3>Original Vector Normalized</h3>"
      ],
      "text/plain": [
       "<IPython.core.display.HTML object>"
      ]
     },
     "metadata": {},
     "output_type": "display_data"
    },
    {
     "data": {
      "text/plain": [
       "array([ 0.16666667,  0.33333333,  0.5       ])"
      ]
     },
     "metadata": {},
     "output_type": "display_data"
    },
    {
     "data": {
      "text/html": [
       "<h3>Ratio Matrix</h3>"
      ],
      "text/plain": [
       "<IPython.core.display.HTML object>"
      ]
     },
     "metadata": {},
     "output_type": "display_data"
    },
    {
     "data": {
      "text/plain": [
       "array([[ 1.        ,  0.5       ,  0.33333333],\n",
       "       [ 2.        ,  1.        ,  0.66666667],\n",
       "       [ 3.        ,  1.5       ,  1.        ]])"
      ]
     },
     "metadata": {},
     "output_type": "display_data"
    },
    {
     "data": {
      "text/html": [
       "<h3>New Priority Vector</h3>"
      ],
      "text/plain": [
       "<IPython.core.display.HTML object>"
      ]
     },
     "metadata": {},
     "output_type": "display_data"
    },
    {
     "data": {
      "text/plain": [
       "array([ 0.16666667,  0.33333333,  0.5       ])"
      ]
     },
     "metadata": {},
     "output_type": "display_data"
    }
   ],
   "source": [
    "example_show((1, 2, 3))"
   ]
  },
  {
   "cell_type": "code",
   "execution_count": 31,
   "metadata": {},
   "outputs": [
    {
     "data": {
      "text/html": [
       "<h3>Original Vector Normalized</h3>"
      ],
      "text/plain": [
       "<IPython.core.display.HTML object>"
      ]
     },
     "metadata": {},
     "output_type": "display_data"
    },
    {
     "data": {
      "text/plain": [
       "array([ 0.1,  0.3,  0.4,  0.2])"
      ]
     },
     "metadata": {},
     "output_type": "display_data"
    },
    {
     "data": {
      "text/html": [
       "<h3>Ratio Matrix</h3>"
      ],
      "text/plain": [
       "<IPython.core.display.HTML object>"
      ]
     },
     "metadata": {},
     "output_type": "display_data"
    },
    {
     "data": {
      "text/plain": [
       "array([[ 1.        ,  0.33333333,  0.25      ,  0.5       ],\n",
       "       [ 3.        ,  1.        ,  0.75      ,  1.5       ],\n",
       "       [ 4.        ,  1.33333333,  1.        ,  2.        ],\n",
       "       [ 2.        ,  0.66666667,  0.5       ,  1.        ]])"
      ]
     },
     "metadata": {},
     "output_type": "display_data"
    },
    {
     "data": {
      "text/html": [
       "<h3>New Priority Vector</h3>"
      ],
      "text/plain": [
       "<IPython.core.display.HTML object>"
      ]
     },
     "metadata": {},
     "output_type": "display_data"
    },
    {
     "data": {
      "text/plain": [
       "array([ 0.1,  0.3,  0.4,  0.2])"
      ]
     },
     "metadata": {},
     "output_type": "display_data"
    }
   ],
   "source": [
    "example_show([.1, .3, .4, .2])"
   ]
  },
  {
   "cell_type": "code",
   "execution_count": null,
   "metadata": {
    "collapsed": true
   },
   "outputs": [],
   "source": []
  }
 ],
 "metadata": {
  "kernelspec": {
   "display_name": "Python 3",
   "language": "python",
   "name": "python3"
  },
  "language_info": {
   "codemirror_mode": {
    "name": "ipython",
    "version": 3
   },
   "file_extension": ".py",
   "mimetype": "text/x-python",
   "name": "python",
   "nbconvert_exporter": "python",
   "pygments_lexer": "ipython3",
   "version": "3.6.1"
  },
  "toc": {
   "colors": {
    "hover_highlight": "#DAA520",
    "navigate_num": "#000000",
    "navigate_text": "#333333",
    "running_highlight": "#FF0000",
    "selected_highlight": "#FFD700",
    "sidebar_border": "#EEEEEE",
    "wrapper_background": "#FFFFFF"
   },
   "moveMenuLeft": true,
   "nav_menu": {
    "height": "84px",
    "width": "252px"
   },
   "navigate_menu": true,
   "number_sections": true,
   "sideBar": true,
   "threshold": 4,
   "toc_cell": false,
   "toc_section_display": "block",
   "toc_window_display": false,
   "widenNotebook": false
  }
 },
 "nbformat": 4,
 "nbformat_minor": 2
}
